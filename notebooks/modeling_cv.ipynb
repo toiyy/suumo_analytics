{
 "cells": [
  {
   "cell_type": "markdown",
   "metadata": {},
   "source": [
    "# 交差検証によるモデル評価\n",
    "このノートブックは、LightGBMモデルの性能を交差検証（Cross-Validation）によって評価するためのものです。"
   ]
  },
  {
   "cell_type": "code",
   "execution_count": null,
   "metadata": {},
   "outputs": [],
   "source": [
    "import pandas as pd\n",
    "import numpy as np\n",
    "import lightgbm as lgb\n",
    "from sklearn.model_selection import KFold\n",
    "from sklearn.metrics import mean_squared_error\n",
    "import warnings\n",
    "\n",
    "warnings.filterwarnings('ignore', category=UserWarning)"
   ]
  },
  {
   "cell_type": "markdown",
   "metadata": {},
   "source": [
    "## 交差検証の実行"
   ]
  },
  {
   "cell_type": "code",
   "execution_count": null,
   "metadata": {},
   "outputs": [],
   "source": [
    "# 前処理済みのデータを読み込む\n",
    "df = pd.read_csv('data/suumo_data_cleaned.csv')\n",
    "\n",
    "# 特徴量 (X) とターゲット (y) を定義\n",
    "if 'rent' in df.columns:\n",
    "    X = df.drop(['rent', 'rent_log'], axis=1)\n",
    "else:\n",
    "    X = df.drop(['rent_log'], axis=1)\n",
    "\n",
    "y = df['rent_log']\n",
    "\n",
    "# 交差検証の設定\n",
    "n_splits = 5\n",
    "kf = KFold(n_splits=n_splits, shuffle=True, random_state=42)\n",
    "\n",
    "rmse_scores = []\n",
    "\n",
    "print(f'Starting {n_splits}-fold cross-validation...')\n",
    "\n",
    "for fold, (train_index, val_index) in enumerate(kf.split(X, y)):\n",
    "    print(f'--- Fold {fold+1}/{n_splits} ---')\n",
    "\n",
    "    # 訓練データと検証データに分割\n",
    "    X_train, X_val = X.iloc[train_index], X.iloc[val_index]\n",
    "    y_train, y_val = y.iloc[train_index], y.iloc[val_index]\n",
    "\n",
    "    # LightGBMモデルの学習\n",
    "    lgb_reg = lgb.LGBMRegressor(random_state=42)\n",
    "    lgb_reg.fit(X_train, y_train)\n",
    "\n",
    "    # 検証データで予測\n",
    "    y_pred_log = lgb_reg.predict(X_val)\n",
    "\n",
    "    # 予測結果を元のスケールに戻す\n",
    "    y_pred = np.expm1(y_pred_log)\n",
    "    y_val_orig = np.expm1(y_val)\n",
    "\n",
    "    # RMSEで評価\n",
    "    rmse = np.sqrt(mean_squared_error(y_val_orig, y_pred))\n",
    "    rmse_scores.append(rmse)\n",
    "    print(f'RMSE for fold {fold+1}: {rmse:.4f} (万円)')\n",
    "\n",
    "# 平均RMSEを計算\n",
    "mean_rmse = np.mean(rmse_scores)\n",
    "std_rmse = np.std(rmse_scores)\n",
    "print('\n--- Cross-Validation Summary ---')\n",
    "print(f'Mean RMSE: {mean_rmse:.4f} (万円)')\n",
    "print(f'Std Dev of RMSE: {std_rmse:.4f} (万円)')"
   ]
  }
 ],
 "metadata": {
  "kernelspec": {
   "display_name": "Python 3",
   "language": "python",
   "name": "python3"
  },
  "language_info": {
   "codemirror_mode": {
    "name": "ipython",
    "version": 3
   },
   "file_extension": ".py",
   "mimetype": "text/x-python",
   "name": "python",
   "nbconvert_exporter": "python",
   "pygments_lexer": "ipython3",
   "version": "3.10.9"
  }
 },
 "nbformat": 4,
 "nbformat_minor": 4
}