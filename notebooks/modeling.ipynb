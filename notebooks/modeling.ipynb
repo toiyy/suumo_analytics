{
 "cells": [
  {
   "cell_type": "markdown",
   "metadata": {},
   "source": [
    "# LightGBMモデルの学習と評価\n",
    "このノートブックは、LightGBMモデルを学習し、その性能を評価するためのものです。"
   ]
  },
  {
   "cell_type": "code",
   "execution_count": null,
   "metadata": {},
   "outputs": [],
   "source": [
    "import pandas as pd\n",
    "import numpy as np\n",
    "import lightgbm as lgb\n",
    "from sklearn.model_selection import train_test_split\n",
    "from sklearn.metrics import mean_squared_error\n",
    "import matplotlib.pyplot as plt\n",
    "import seaborn as sns"
   ]
  },
  {
   "cell_type": "markdown",
   "metadata": {},
   "source": [
    "## データの読み込みと分割"
   ]
  },
  {
   "cell_type": "code",
   "execution_count": null,
   "metadata": {},
   "outputs": [],
   "source": [
    "# 前処理済みのデータを読み込む\n",
    "df = pd.read_csv('data/suumo_data_cleaned.csv')\n",
    "\n",
    "# 特徴量 (X) とターゲット (y) を定義\n",
    "if 'rent' in df.columns:\n",
    "    X = df.drop(['rent', 'rent_log'], axis=1)\n",
    "else:\n",
    "    X = df.drop(['rent_log'], axis=1)\n",
    "\n",
    "y = df['rent_log']\n",
    "\n",
    "# 訓練データとテストデータに分割\n",
    "X_train, X_test, y_train, y_test = train_test_split(X, y, test_size=0.2, random_state=42)\n",
    "\n",
    "print(f'訓練データのサイズ: {X_train.shape}')\n",
    "print(f'テストデータのサイズ: {X_test.shape}')"
   ]
  },
  {
   "cell_type": "markdown",
   "metadata": {},
   "source": [
    "## モデルの学習と評価"
   ]
  },
  {
   "cell_type": "code",
   "execution_count": null,
   "metadata": {},
   "outputs": [],
   "source": [
    "# LightGBMモデルの学習\n",
    "lgb_reg = lgb.LGBMRegressor(random_state=42)\n",
    "lgb_reg.fit(X_train, y_train)\n",
    "\n",
    "# テストデータで予測\n",
    "y_pred_log_lgb = lgb_reg.predict(X_test)\n",
    "\n",
    "# 予測結果を元のスケールに戻す\n",
    "y_pred_lgb = np.expm1(y_pred_log_lgb)\n",
    "y_test_orig = np.expm1(y_test)\n",
    "\n",
    "# RMSEで評価\n",
    "rmse_lgb = np.sqrt(mean_squared_error(y_test_orig, y_pred_lgb))\n",
    "print(f'LightGBM RMSE (New Features): {rmse_lgb:.4f} (万円)')"
   ]
  },
  {
   "cell_type": "markdown",
   "metadata": {},
   "source": [
    "## 特徴量の重要度の可視化"
   ]
  },
  {
   "cell_type": "code",
   "execution_count": null,
   "metadata": {},
   "outputs": [],
   "source": [
    "# 特徴量の重要度を可視化\n",
    "feature_importance = pd.DataFrame({\n",
    "    'feature': X.columns,\n",
    "    'importance': lgb_reg.feature_importances_\n",
    "}).sort_values('importance', ascending=False)\n",
    "\n",
    "# 重要度が高い特徴量のみをプロット (上位20件)\n",
    "plt.figure(figsize=(10, 10))\n",
    "sns.barplot(x='importance', y='feature', data=feature_importance.head(20))\n",
    "plt.title('特徴量の重要度 (LightGBM, New Features)')\n",
    "plt.tight_layout()\n",
    "plt.savefig('feature_importance.png')\n",
    "print('Saved feature importance plot to feature_importance.png')"
   ]
  }
 ],
 "metadata": {
  "kernelspec": {
   "display_name": "Python 3",
   "language": "python",
   "name": "python3"
  },
  "language_info": {
   "codemirror_mode": {
    "name": "ipython",
    "version": 3
   },
   "file_extension": ".py",
   "mimetype": "text/x-python",
   "name": "python",
   "nbconvert_exporter": "python",
   "pygments_lexer": "ipython3",
   "version": "3.10.9"
  }
 },
 "nbformat": 4,
 "nbformat_minor": 4
}