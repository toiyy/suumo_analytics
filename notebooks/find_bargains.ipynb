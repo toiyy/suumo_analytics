{
 "cells": [
  {
   "cell_type": "markdown",
   "metadata": {},
   "source": [
    "# 割安物件の探索\n",
    "このノートブックは、学習済みモデルを使って割安な賃貸物件を見つけ出すためのものです。"
   ]
  },
  {
   "cell_type": "code",
   "execution_count": null,
   "metadata": {},
   "outputs": [],
   "source": [
    "import pandas as pd\n",
    "import numpy as np\n",
    "import lightgbm as lgb\n",
    "import warnings\n",
    "\n",
    "warnings.filterwarnings('ignore', category=UserWarning)"
   ]
  },
  {
   "cell_type": "markdown",
   "metadata": {},
   "source": [
    "## 割安物件探索関数の定義"
   ]
  },
  {
   "cell_type": "code",
   "execution_count": null,
   "metadata": {},
   "outputs": [],
   "source": [
    "def find_bargains():\n",
    "    # データを読み込む\n",
    "    try:\n",
    "        df_clean = pd.read_csv('data/suumo_data_cleaned.csv')\n",
    "        df_raw = pd.read_csv('data/suumo_data.csv')\n",
    "    except FileNotFoundError as e:\n",
    "        print(f\"Error: {e}. Please make sure the data files exist.\")\n",
    "        return\n",
    "\n",
    "    # 特徴量 (X) とターゲット (y) を定義\n",
    "    if 'rent' not in df_clean.columns or 'rent_log' not in df_clean.columns:\n",
    "        print(\"Error: 'rent' or 'rent_log' column not found in cleaned data.\")\n",
    "        return\n",
    "        \n",
    "    X = df_clean.drop(['rent', 'rent_log'], axis=1)\n",
    "    y = df_clean['rent_log']\n",
    "\n",
    "    print(\"Training model on the entire dataset...\")\n",
    "    # LightGBMモデルをデータ全体で学習\n",
    "    lgb_reg = lgb.LGBMRegressor(random_state=42)\n",
    "    lgb_reg.fit(X, y)\n",
    "\n",
    "    print(\"Predicting rent for all properties...\")\n",
    "    # 全データの家賃を予測\n",
    "    all_pred_log = lgb_reg.predict(X)\n",
    "    all_pred = np.expm1(all_pred_log)\n",
    "\n",
    "    # 元のデータに予測結果を結合\n",
    "    df_result = df_raw.copy()\n",
    "    df_result['actual_rent'] = df_clean['rent']\n",
    "    df_result['predicted_rent'] = all_pred\n",
    "    df_result['difference'] = df_result['actual_rent'] - df_result['predicted_rent']\n",
    "    df_result['discount_rate'] = df_result['difference'] / df_result['actual_rent']\n",
    "\n",
    "    # 割安度の高い順にソート\n",
    "    df_bargain = df_result.sort_values(\"discount_rate\", ascending=True)\n",
    "\n",
    "    # 結果の表示\n",
    "    print(\"\\n--- 割安物件ランキング TOP 20 (新モデル) ---\")\n",
    "    \n",
    "    # 表示する列を定義\n",
    "    display_columns = [\n",
    "        'address', 'building_name', 'age', 'floors', 'layout', 'area',\n",
    "        'actual_rent', 'predicted_rent', 'discount_rate'\n",
    "    ]\n",
    "    \n",
    "    # カラムの存在を確認\n",
    "    display_columns = [col for col in display_columns if col in df_bargain.columns]\n",
    "\n",
    "    # pandasの表示オプションを設定して、すべての列を表示\n",
    "    pd.set_option('display.max_columns', None)\n",
    "    pd.set_option('display.width', 1000)\n",
    "\n",
    "    print(df_bargain[display_columns].head(20).to_string(index=False))"
   ]
  },
  {
   "cell_type": "markdown",
   "metadata": {},
   "source": [
    "## 割安物件の探索実行"
   ]
  },
  {
   "cell_type": "code",
   "execution_count": null,
   "metadata": {},
   "outputs": [],
   "source": [
    "find_bargains()"
   ]
  }
 ],
 "metadata": {
  "kernelspec": {
   "display_name": "Python 3",
   "language": "python",
   "name": "python3"
  },
  "language_info": {
   "codemirror_mode": {
    "name": "ipython",
    "version": 3
   },
   "file_extension": ".py",
   "mimetype": "text/x-python",
   "name": "python",
   "nbconvert_exporter": "python",
   "pygments_lexer": "ipython3",
   "version": "3.10.9"
  }
 },
 "nbformat": 4,
 "nbformat_minor": 4
}