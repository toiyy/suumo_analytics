{
 "cells": [
  {
   "cell_type": "markdown",
   "metadata": {},
   "source": [
    "# データ前処理\n",
    "このノートブックは、SUUMOから収集した賃貸物件データを前処理するためのものです。"
   ]
  },
  {
   "cell_type": "code",
   "execution_count": null,
   "metadata": {},
   "outputs": [],
   "source": [
    "import pandas as pd\n",
    "import warnings\n",
    "import numpy as np\n",
    "\n",
    "warnings.filterwarnings('ignore')"
   ]
  },
  {
   "cell_type": "markdown",
   "metadata": {},
   "source": [
    "## 前処理関数の定義"
   ]
  },
  {
   "cell_type": "code",
   "execution_count": null,
   "metadata": {},
   "outputs": [],
   "source": [
    "def preprocess(df):\n",
    "    # コピーを作成して元のDataFrameを変更しないようにする\n",
    "    df_processed = df.copy()\n",
    "\n",
    "    # 1. 築年数 (age) から数値（年数）を抽出\n",
    "    df_processed['age_years'] = df_processed['age'].str.extract(r'(\\d+)').astype(float)\n",
    "    # 新築の場合は0年とする\n",
    "    df_processed.loc[df_processed['age'] == '新築', 'age_years'] = 0\n",
    "\n",
    "    # 2. 建物階数 (floors) から数値（地上階数）を抽出\n",
    "    df_processed['total_floors'] = df_processed['floors'].str.extract(r'(\\d+)階建').astype(float)\n",
    "\n",
    "    # 3. 交通アクセス (transportation) から駅徒歩分数を抽出 (最も近いもの)\n",
    "    walk_minutes = df_processed['transportation_1'].str.extract(r'歩(\\d+)分').astype(float)\n",
    "    df_processed['walk_minutes'] = walk_minutes\n",
    "\n",
    "    # 4. 面積 (area) を数値に変換\n",
    "    df_processed['area_m2'] = df_processed['area'].astype(float)\n",
    "\n",
    "    # 5. 間取り (layout) をダミー変数に変換\n",
    "    df_processed['has_L'] = df_processed['layout'].str.contains('L').astype(int)\n",
    "    df_processed['has_D'] = df_processed['layout'].str.contains('D').astype(int)\n",
    "    df_processed['has_K'] = df_processed['layout'].str.contains('K').astype(int)\n",
    "    df_processed['has_S'] = df_processed['layout'].str.contains('S').astype(int)\n",
    "    df_processed['has_R'] = df_processed['layout'].str.contains('R').astype(int)\n",
    "    df_processed['layout_rooms'] = df_processed['layout'].str.extract(r'(\\d+)').astype(float)\n",
    "    df_processed['layout_rooms'].fillna(1, inplace=True)\n",
    "\n",
    "    # 6. 住所(address)から市区町村を抽出\n",
    "    df_processed['city'] = df['address'].str.extract(r'東京都(.*?[市区])')\n",
    "    df_processed['city'].fillna('不明', inplace=True)\n",
    "\n",
    "    # 7. 交通アクセス(transportation_1)から路線名を抽出\n",
    "    df_processed['line'] = df['transportation_1'].str.split('/').str[0]\n",
    "    df_processed['line'].fillna('不明', inplace=True)\n",
    "\n",
    "    # 8. カテゴリカル変数をOne-Hotエンコーディング\n",
    "    categorical_features = ['city', 'line']\n",
    "    df_processed = pd.get_dummies(df_processed, columns=categorical_features, dummy_na=False)\n",
    "\n",
    "    # 9. 不要な列を削除\n",
    "    df_processed = df_processed.drop([\n",
    "        'building_name', 'address', 'transportation_1', 'transportation_2',\n",
    "        'transportation_3', 'age', 'floors', 'layout', 'area'\n",
    "    ], axis=1)\n",
    "\n",
    "    # 10. 欠損値の処理\n",
    "    for col in ['age_years', 'total_floors', 'walk_minutes']:\n",
    "        df_processed[col].fillna(df_processed[col].median(), inplace=True)\n",
    "\n",
    "    # rent_logを追加 (モデリング用)\n",
    "    df_processed['rent_log'] = np.log1p(df['rent'])\n",
    "\n",
    "    return df_processed"
   ]
  },
  {
   "cell_type": "markdown",
   "metadata": {},
   "source": [
    "## データの読み込みと前処理の実行"
   ]
  },
  {
   "cell_type": "code",
   "execution_count": null,
   "metadata": {},
   "outputs": [],
   "source": [
    "# データを読み込む\n",
    "df = pd.read_csv('data/suumo_data.csv')\n",
    "\n",
    "# 前処理を実行\n",
    "df_clean = preprocess(df)\n",
    "\n",
    "# 前処理済みのデータを保存\n",
    "output_path = 'data/suumo_data_cleaned.csv'\n",
    "df_clean.to_csv(output_path, index=False, encoding='utf-8-sig')\n",
    "print(f'Preprocessed data saved to {output_path}')"
   ]
  }
 ],
 "metadata": {
  "kernelspec": {
   "display_name": "Python 3",
   "language": "python",
   "name": "python3"
  },
  "language_info": {
   "codemirror_mode": {
    "name": "ipython",
    "version": 3
   },
   "file_extension": ".py",
   "mimetype": "text/x-python",
   "name": "python",
   "nbconvert_exporter": "python",
   "pygments_lexer": "ipython3",
   "version": "3.10.9"
  }
 },
 "nbformat": 4,
 "nbformat_minor": 4
}